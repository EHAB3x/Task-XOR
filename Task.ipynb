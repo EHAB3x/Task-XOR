{
 "cells": [
  {
   "cell_type": "code",
   "execution_count": null,
   "metadata": {},
   "outputs": [],
   "source": [
    "import numpy as np\n",
    "import tensorflow as tf"
   ]
  },
  {
   "cell_type": "code",
   "execution_count": null,
   "metadata": {},
   "outputs": [],
   "source": [
    "# Define the LogicGate Model using tf.Module\n",
    "class LogicGate(tf.Module):\n",
    "    def __init__(self):\n",
    "        super().__init__()\n",
    "        self.built = False\n",
    "\n",
    "    def __call__(self, x, train=True):\n",
    "        if not self.built:\n",
    "            input_dim = x.shape[-1]\n",
    "            self.w = tf.Variable(tf.random.normal([input_dim, 1]), name=\"weights\")\n",
    "            self.b = tf.Variable(tf.zeros([1]), name=\"bias\")\n",
    "            self.built = True\n",
    "\n",
    "        z = tf.add(tf.matmul(x, self.w), self.b)\n",
    "        return tf.sigmoid(z)"
   ]
  },
  {
   "cell_type": "code",
   "execution_count": null,
   "metadata": {},
   "outputs": [],
   "source": [
    "# Loss function\n",
    "def compute_loss(y_pred, y_true):\n",
    "    return tf.reduce_mean(tf.square(y_pred - y_true))\n"
   ]
  },
  {
   "cell_type": "code",
   "execution_count": null,
   "metadata": {},
   "outputs": [],
   "source": [
    "# Training function\n",
    "def train_model(model, x_train, y_train, learning_rate=0.5, epochs=5000):\n",
    "    for epoch in range(epochs):\n",
    "        with tf.GradientTape() as tape:\n",
    "            y_pred = model(x_train)\n",
    "            loss = compute_loss(y_pred, y_train)\n",
    "\n",
    "        grads = tape.gradient(loss, model.variables)\n",
    "        for g, v in zip(grads, model.variables):\n",
    "            v.assign_sub(learning_rate * g)\n",
    "\n",
    "        if epoch % 1000 == 0:\n",
    "            acc = compute_accuracy(model, x_train, y_train)\n",
    "            print(f\"Epoch {epoch}, Loss: {loss.numpy():.4f}, Accuracy: {acc:.4f}\")"
   ]
  },
  {
   "cell_type": "code",
   "execution_count": null,
   "metadata": {},
   "outputs": [],
   "source": [
    "\n",
    "def compute_accuracy(model, x, y_true):\n",
    "    y_pred = model(x, train=False)\n",
    "    y_pred_rounded = tf.round(y_pred)\n",
    "    correct = tf.equal(y_pred_rounded, y_true)\n",
    "    return tf.reduce_mean(tf.cast(correct, tf.float32)).numpy()"
   ]
  },
  {
   "cell_type": "code",
   "execution_count": null,
   "metadata": {},
   "outputs": [],
   "source": [
    "# Prepare XOR gate dataset\n",
    "xor_table = np.array([[0, 0, 0],\n",
    "                      [1, 0, 1],\n",
    "                      [0, 1, 1],\n",
    "                      [1, 1, 0]], dtype=np.float32)\n",
    "\n",
    "x_train = xor_table[:, :2]\n",
    "y_train = xor_table[:, 2:]"
   ]
  },
  {
   "cell_type": "code",
   "execution_count": null,
   "metadata": {},
   "outputs": [],
   "source": [
    "#  train model\n",
    "model = LogicGate()\n",
    "train_model(model, x_train, y_train)"
   ]
  },
  {
   "cell_type": "code",
   "execution_count": null,
   "metadata": {},
   "outputs": [],
   "source": [
    "# Display results\n",
    "w1, w2 = model.w.numpy().flatten()\n",
    "b = model.b.numpy().flatten()[0]\n",
    "print(f\"\\nLearned weight for w1: {w1}\")\n",
    "print(f\"Learned weight for w2: {w2}\")\n",
    "print(f\"Learned bias: {b}\\n\")"
   ]
  },
  {
   "cell_type": "code",
   "execution_count": null,
   "metadata": {},
   "outputs": [],
   "source": [
    "# Test model prediction\n",
    "y_pred = model(x_train, train=False).numpy().round().astype(np.uint8)\n",
    "print(\"Predicted Truth Table:\")\n",
    "print(np.column_stack((xor_table[:, :2], y_pred)))"
   ]
  }
 ],
 "metadata": {
  "kernelspec": {
   "display_name": "base",
   "language": "python",
   "name": "python3"
  },
  "language_info": {
   "codemirror_mode": {
    "name": "ipython",
    "version": 3
   },
   "file_extension": ".py",
   "mimetype": "text/x-python",
   "name": "python",
   "nbconvert_exporter": "python",
   "pygments_lexer": "ipython3",
   "version": "3.9.12"
  }
 },
 "nbformat": 4,
 "nbformat_minor": 2
}
